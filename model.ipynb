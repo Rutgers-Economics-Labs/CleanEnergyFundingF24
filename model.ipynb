{
 "cells": [
  {
   "cell_type": "code",
   "execution_count": 1,
   "metadata": {},
   "outputs": [],
   "source": [
    "import pandas as pd\n",
    "import numpy as np\n",
    "import matplotlib.pyplot as plt"
   ]
  },
  {
   "cell_type": "code",
   "execution_count": 2,
   "metadata": {},
   "outputs": [],
   "source": [
    "#df1 = pd.read_excel(\"data/Consumption/Aggregated_Community-Scale_Utility_Energy_Data_07.25.24.xlsx\")\n",
    "#df2 = pd.read_excel(\"data/Consumption/Energy Consumption.xls\")\n",
    "#df3 = pd.read_excel(\"data/Consumption/Solar_Installation_Data_090822.xlsx\")\n",
    "\n",
    "df1 = pd.read_csv(\"data/Consumption/Aggregated_Community-Scale_Utility_Energy_Data_07.25.24.csv\")\n",
    "df2 = pd.read_csv(\"data/Consumption/Energy_Consumption.csv\")\n",
    "df3 = pd.read_csv(\"data/Consumption/Solar_Installation_Data_090822.csv\")"
   ]
  },
  {
   "cell_type": "code",
   "execution_count": 16,
   "metadata": {},
   "outputs": [],
   "source": [
    "df2[df2[\"STATE\"] == \"NJ\"].to_csv(\"data/Consumption/NJ_Energy_Consumption.csv\")"
   ]
  }
 ],
 "metadata": {
  "kernelspec": {
   "display_name": "base",
   "language": "python",
   "name": "python3"
  },
  "language_info": {
   "codemirror_mode": {
    "name": "ipython",
    "version": 3
   },
   "file_extension": ".py",
   "mimetype": "text/x-python",
   "name": "python",
   "nbconvert_exporter": "python",
   "pygments_lexer": "ipython3",
   "version": "3.9.19"
  }
 },
 "nbformat": 4,
 "nbformat_minor": 2
}
