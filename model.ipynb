{
 "cells": [
  {
   "cell_type": "code",
   "execution_count": 1,
   "metadata": {},
   "outputs": [],
   "source": [
    "import pandas as pd\n",
    "import numpy as np\n",
    "import matplotlib.pyplot as plt"
   ]
  },
  {
   "cell_type": "code",
   "execution_count": 22,
   "metadata": {},
   "outputs": [
    {
     "name": "stderr",
     "output_type": "stream",
     "text": [
      "/var/folders/22/t8xqqxmj2g5c4pnhgzh4g8vw0000gq/T/ipykernel_4421/241582748.py:7: DtypeWarning: Columns (6) have mixed types. Specify dtype option on import or set low_memory=False.\n",
      "  df3 = pd.read_csv(\"data/Consumption/Solar_Installation_Data_090822.csv\")\n"
     ]
    }
   ],
   "source": [
    "#df1 = pd.read_excel(\"data/Consumption/Aggregated_Community-Scale_Utility_Energy_Data_07.25.24.xlsx\")\n",
    "#df2 = pd.read_excel(\"data/Consumption/Energy Consumption.xls\")\n",
    "#df3 = pd.read_excel(\"data/Consumption/Solar_Installation_Data_090822.xlsx\")\n",
    "\n",
    "df1 = pd.read_csv(\"data/Consumption/Aggregated_Community-Scale_Utility_Energy_Data_07.25.24.csv\")\n",
    "df2 = pd.read_csv(\"data/Consumption/NJ_Energy_Consumption.csv\")\n",
    "df3 = pd.read_csv(\"data/Consumption/Solar_Installation_Data_090822.csv\")"
   ]
  },
  {
   "cell_type": "code",
   "execution_count": 32,
   "metadata": {},
   "outputs": [
    {
     "data": {
      "text/html": [
       "<div>\n",
       "<style scoped>\n",
       "    .dataframe tbody tr th:only-of-type {\n",
       "        vertical-align: middle;\n",
       "    }\n",
       "\n",
       "    .dataframe tbody tr th {\n",
       "        vertical-align: top;\n",
       "    }\n",
       "\n",
       "    .dataframe thead th {\n",
       "        text-align: right;\n",
       "    }\n",
       "</style>\n",
       "<table border=\"1\" class=\"dataframe\">\n",
       "  <thead>\n",
       "    <tr style=\"text-align: right;\">\n",
       "      <th></th>\n",
       "      <th>YEAR</th>\n",
       "      <th>ENERGY SOURCE</th>\n",
       "      <th>GENERATION (Megawatthours)</th>\n",
       "    </tr>\n",
       "  </thead>\n",
       "  <tbody>\n",
       "    <tr>\n",
       "      <th>0</th>\n",
       "      <td>1990</td>\n",
       "      <td>Coal</td>\n",
       "      <td>14115640.0</td>\n",
       "    </tr>\n",
       "    <tr>\n",
       "      <th>1</th>\n",
       "      <td>1990</td>\n",
       "      <td>Hydroelectric Conventional</td>\n",
       "      <td>62702.0</td>\n",
       "    </tr>\n",
       "    <tr>\n",
       "      <th>2</th>\n",
       "      <td>1990</td>\n",
       "      <td>Natural Gas</td>\n",
       "      <td>13828650.0</td>\n",
       "    </tr>\n",
       "    <tr>\n",
       "      <th>3</th>\n",
       "      <td>1990</td>\n",
       "      <td>Nuclear</td>\n",
       "      <td>47540774.0</td>\n",
       "    </tr>\n",
       "    <tr>\n",
       "      <th>4</th>\n",
       "      <td>1990</td>\n",
       "      <td>Other Biomass</td>\n",
       "      <td>492116.0</td>\n",
       "    </tr>\n",
       "    <tr>\n",
       "      <th>...</th>\n",
       "      <td>...</td>\n",
       "      <td>...</td>\n",
       "      <td>...</td>\n",
       "    </tr>\n",
       "    <tr>\n",
       "      <th>360</th>\n",
       "      <td>2023</td>\n",
       "      <td>Petroleum</td>\n",
       "      <td>84532.0</td>\n",
       "    </tr>\n",
       "    <tr>\n",
       "      <th>361</th>\n",
       "      <td>2023</td>\n",
       "      <td>Pumped Storage</td>\n",
       "      <td>-330432.0</td>\n",
       "    </tr>\n",
       "    <tr>\n",
       "      <th>362</th>\n",
       "      <td>2023</td>\n",
       "      <td>Solar Thermal and Photovoltaic</td>\n",
       "      <td>3088266.0</td>\n",
       "    </tr>\n",
       "    <tr>\n",
       "      <th>363</th>\n",
       "      <td>2023</td>\n",
       "      <td>Total</td>\n",
       "      <td>128457848.0</td>\n",
       "    </tr>\n",
       "    <tr>\n",
       "      <th>364</th>\n",
       "      <td>2023</td>\n",
       "      <td>Wind</td>\n",
       "      <td>36876.0</td>\n",
       "    </tr>\n",
       "  </tbody>\n",
       "</table>\n",
       "<p>365 rows × 3 columns</p>\n",
       "</div>"
      ],
      "text/plain": [
       "     YEAR                   ENERGY SOURCE  GENERATION (Megawatthours)\n",
       "0    1990                            Coal                  14115640.0\n",
       "1    1990      Hydroelectric Conventional                     62702.0\n",
       "2    1990                     Natural Gas                  13828650.0\n",
       "3    1990                         Nuclear                  47540774.0\n",
       "4    1990                   Other Biomass                    492116.0\n",
       "..    ...                             ...                         ...\n",
       "360  2023                       Petroleum                     84532.0\n",
       "361  2023                  Pumped Storage                   -330432.0\n",
       "362  2023  Solar Thermal and Photovoltaic                   3088266.0\n",
       "363  2023                           Total                 128457848.0\n",
       "364  2023                            Wind                     36876.0\n",
       "\n",
       "[365 rows x 3 columns]"
      ]
     },
     "execution_count": 32,
     "metadata": {},
     "output_type": "execute_result"
    }
   ],
   "source": [
    "by_source = df2.groupby([\"YEAR\", \"ENERGY SOURCE\"])[\"GENERATION (Megawatthours)\"].sum().reset_index()\n",
    "by_source"
   ]
  },
  {
   "cell_type": "code",
   "execution_count": null,
   "metadata": {},
   "outputs": [],
   "source": [
    "plt.plot"
   ]
  }
 ],
 "metadata": {
  "kernelspec": {
   "display_name": "base",
   "language": "python",
   "name": "python3"
  },
  "language_info": {
   "codemirror_mode": {
    "name": "ipython",
    "version": 3
   },
   "file_extension": ".py",
   "mimetype": "text/x-python",
   "name": "python",
   "nbconvert_exporter": "python",
   "pygments_lexer": "ipython3",
   "version": "3.9.19"
  }
 },
 "nbformat": 4,
 "nbformat_minor": 2
}
