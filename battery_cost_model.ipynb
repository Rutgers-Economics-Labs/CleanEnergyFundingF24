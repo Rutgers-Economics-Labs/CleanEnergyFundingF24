{
 "cells": [
  {
   "cell_type": "code",
   "execution_count": 8,
   "metadata": {},
   "outputs": [],
   "source": [
    "import numpy as np\n",
    "import pandas as pd\n",
    "import matplotlib.pyplot as plt\n",
    "import statsmodels.formula.api as smf"
   ]
  },
  {
   "cell_type": "code",
   "execution_count": 10,
   "metadata": {},
   "outputs": [
    {
     "name": "stdout",
     "output_type": "stream",
     "text": [
      "      USD/kWh  Li  Ni  Co\n",
      "Year                     \n",
      "2019      171   8   4   4\n",
      "2020      143   7   5   3\n",
      "2021      134   8   5   3\n",
      "2022      155  19   6   4\n",
      "2023      151  27   6   3\n",
      "2024      122  22   6   2\n",
      "2025       99  13   6   2\n",
      "2026       87  13   7   2\n",
      "2027       82  15   7   2\n",
      "2028       77  16   8   2\n",
      "2029       75  17   8   2\n",
      "2030       69  18   8   2\n"
     ]
    }
   ],
   "source": [
    "df = pd.read_csv(\"data/New_Data.csv\", index_col = \"Year\")\n",
    "print(df)"
   ]
  }
 ],
 "metadata": {
  "kernelspec": {
   "display_name": "base",
   "language": "python",
   "name": "python3"
  },
  "language_info": {
   "codemirror_mode": {
    "name": "ipython",
    "version": 3
   },
   "file_extension": ".py",
   "mimetype": "text/x-python",
   "name": "python",
   "nbconvert_exporter": "python",
   "pygments_lexer": "ipython3",
   "version": "3.9.19"
  }
 },
 "nbformat": 4,
 "nbformat_minor": 2
}
