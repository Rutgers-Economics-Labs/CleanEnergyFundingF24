{
 "cells": [
  {
   "cell_type": "code",
   "execution_count": 1,
   "metadata": {},
   "outputs": [
    {
     "data": {
      "text/plain": [
       "(23,\n",
       " (46, 4),\n",
       " Index(['Department of Environmental Protection 2000 Revenues', ' 1998 Actual',\n",
       "        ' 1999 Estimated', ' 2000 Estimated'],\n",
       "       dtype='object'))"
      ]
     },
     "execution_count": 1,
     "metadata": {},
     "output_type": "execute_result"
    }
   ],
   "source": [
    "import pandas as pd\n",
    "import numpy as np\n",
    "import os\n",
    "\n",
    "years_DepEP = []\n",
    "\n",
    "# loop through the csvs in data/DepEP and add the dataframe to the list\n",
    "for file in os.listdir('data/DepEP'):\n",
    "    if file.endswith('.csv'):\n",
    "        years_DepEP.append(pd.read_csv('data/DepEP/' + file))\n",
    "\n",
    "# print some info about the dataframes\n",
    "len(years_DepEP), years_DepEP[0].shape, years_DepEP[0].columns"
   ]
  },
  {
   "cell_type": "code",
   "execution_count": null,
   "metadata": {},
   "outputs": [
    {
     "data": {
      "text/html": [
       "<div>\n",
       "<style scoped>\n",
       "    .dataframe tbody tr th:only-of-type {\n",
       "        vertical-align: middle;\n",
       "    }\n",
       "\n",
       "    .dataframe tbody tr th {\n",
       "        vertical-align: top;\n",
       "    }\n",
       "\n",
       "    .dataframe thead th {\n",
       "        text-align: right;\n",
       "    }\n",
       "</style>\n",
       "<table border=\"1\" class=\"dataframe\">\n",
       "  <thead>\n",
       "    <tr style=\"text-align: right;\">\n",
       "      <th></th>\n",
       "      <th>Auction</th>\n",
       "      <th>Date</th>\n",
       "      <th>Quantity Offered</th>\n",
       "      <th>CCR Sold</th>\n",
       "      <th>Quantity Sold</th>\n",
       "      <th>Clearing Price</th>\n",
       "      <th>Total Proceeds</th>\n",
       "    </tr>\n",
       "  </thead>\n",
       "  <tbody>\n",
       "    <tr>\n",
       "      <th>76</th>\n",
       "      <td>Auction 1</td>\n",
       "      <td>2008-09-25</td>\n",
       "      <td>12565387</td>\n",
       "      <td></td>\n",
       "      <td>12565387</td>\n",
       "      <td>3.07</td>\n",
       "      <td>38575738.09</td>\n",
       "    </tr>\n",
       "    <tr>\n",
       "      <th>75</th>\n",
       "      <td>Auction 2</td>\n",
       "      <td>2008-12-17</td>\n",
       "      <td>31505898</td>\n",
       "      <td></td>\n",
       "      <td>31505898</td>\n",
       "      <td>3.38</td>\n",
       "      <td>106489935.24</td>\n",
       "    </tr>\n",
       "    <tr>\n",
       "      <th>74</th>\n",
       "      <td>Auction 3 (Future)</td>\n",
       "      <td>2009-03-18</td>\n",
       "      <td>2175513</td>\n",
       "      <td></td>\n",
       "      <td>2175513</td>\n",
       "      <td>3.05</td>\n",
       "      <td></td>\n",
       "    </tr>\n",
       "    <tr>\n",
       "      <th>73</th>\n",
       "      <td>Auction 3</td>\n",
       "      <td>2009-03-18</td>\n",
       "      <td>31513765</td>\n",
       "      <td></td>\n",
       "      <td>31513765</td>\n",
       "      <td>3.51</td>\n",
       "      <td>117248629.80</td>\n",
       "    </tr>\n",
       "    <tr>\n",
       "      <th>72</th>\n",
       "      <td>Auction 4 (Future)</td>\n",
       "      <td>2009-06-17</td>\n",
       "      <td>2172540</td>\n",
       "      <td></td>\n",
       "      <td>2172540</td>\n",
       "      <td>2.06</td>\n",
       "      <td></td>\n",
       "    </tr>\n",
       "  </tbody>\n",
       "</table>\n",
       "</div>"
      ],
      "text/plain": [
       "               Auction         Date   Quantity Offered  CCR Sold  \\\n",
       "76           Auction 1   2008-09-25           12565387             \n",
       "75           Auction 2   2008-12-17           31505898             \n",
       "74  Auction 3 (Future)   2009-03-18            2175513             \n",
       "73           Auction 3   2009-03-18           31513765             \n",
       "72  Auction 4 (Future)   2009-06-17            2172540             \n",
       "\n",
       "     Quantity Sold   Clearing Price  Total Proceeds  \n",
       "76        12565387             3.07     38575738.09  \n",
       "75        31505898             3.38    106489935.24  \n",
       "74         2175513             3.05                  \n",
       "73        31513765             3.51    117248629.80  \n",
       "72         2172540             2.06                  "
      ]
     },
     "execution_count": 22,
     "metadata": {},
     "output_type": "execute_result"
    }
   ],
   "source": [
    "data = pd.read_csv('data/RGGIAuctions/auction.csv')\n",
    "# make column numeric [' Clearing Price']\n",
    "data[' Clearing Price'] = pd.to_numeric(data[' Clearing Price'], errors='coerce')\n",
    "data.head()"
   ]
  },
  {
   "cell_type": "code",
   "execution_count": 18,
   "metadata": {},
   "outputs": [
    {
     "data": {
      "text/html": [
       "<div>\n",
       "<style scoped>\n",
       "    .dataframe tbody tr th:only-of-type {\n",
       "        vertical-align: middle;\n",
       "    }\n",
       "\n",
       "    .dataframe tbody tr th {\n",
       "        vertical-align: top;\n",
       "    }\n",
       "\n",
       "    .dataframe thead th {\n",
       "        text-align: right;\n",
       "    }\n",
       "</style>\n",
       "<table border=\"1\" class=\"dataframe\">\n",
       "  <thead>\n",
       "    <tr style=\"text-align: right;\">\n",
       "      <th></th>\n",
       "      <th>Quantity Offered</th>\n",
       "      <th>Quantity Sold</th>\n",
       "      <th>Clearing Price</th>\n",
       "    </tr>\n",
       "  </thead>\n",
       "  <tbody>\n",
       "    <tr>\n",
       "      <th>count</th>\n",
       "      <td>7.700000e+01</td>\n",
       "      <td>7.700000e+01</td>\n",
       "      <td>75.000000</td>\n",
       "    </tr>\n",
       "    <tr>\n",
       "      <th>mean</th>\n",
       "      <td>2.036367e+07</td>\n",
       "      <td>1.849899e+07</td>\n",
       "      <td>5.608667</td>\n",
       "    </tr>\n",
       "    <tr>\n",
       "      <th>std</th>\n",
       "      <td>1.245300e+07</td>\n",
       "      <td>1.069966e+07</td>\n",
       "      <td>4.856922</td>\n",
       "    </tr>\n",
       "    <tr>\n",
       "      <th>min</th>\n",
       "      <td>1.864951e+06</td>\n",
       "      <td>0.000000e+00</td>\n",
       "      <td>1.860000</td>\n",
       "    </tr>\n",
       "    <tr>\n",
       "      <th>25%</th>\n",
       "      <td>1.359011e+07</td>\n",
       "      <td>1.336065e+07</td>\n",
       "      <td>1.990000</td>\n",
       "    </tr>\n",
       "    <tr>\n",
       "      <th>50%</th>\n",
       "      <td>1.623750e+07</td>\n",
       "      <td>1.623750e+07</td>\n",
       "      <td>4.000000</td>\n",
       "    </tr>\n",
       "    <tr>\n",
       "      <th>75%</th>\n",
       "      <td>2.859170e+07</td>\n",
       "      <td>2.427216e+07</td>\n",
       "      <td>5.885000</td>\n",
       "    </tr>\n",
       "    <tr>\n",
       "      <th>max</th>\n",
       "      <td>4.559597e+07</td>\n",
       "      <td>4.199581e+07</td>\n",
       "      <td>25.750000</td>\n",
       "    </tr>\n",
       "  </tbody>\n",
       "</table>\n",
       "</div>"
      ],
      "text/plain": [
       "       Quantity Offered  Quantity Sold  Clearing Price\n",
       "count      7.700000e+01   7.700000e+01       75.000000\n",
       "mean       2.036367e+07   1.849899e+07        5.608667\n",
       "std        1.245300e+07   1.069966e+07        4.856922\n",
       "min        1.864951e+06   0.000000e+00        1.860000\n",
       "25%        1.359011e+07   1.336065e+07        1.990000\n",
       "50%        1.623750e+07   1.623750e+07        4.000000\n",
       "75%        2.859170e+07   2.427216e+07        5.885000\n",
       "max        4.559597e+07   4.199581e+07       25.750000"
      ]
     },
     "execution_count": 18,
     "metadata": {},
     "output_type": "execute_result"
    }
   ],
   "source": [
    "data.describe()"
   ]
  },
  {
   "cell_type": "code",
   "execution_count": 25,
   "metadata": {},
   "outputs": [
    {
     "data": {
      "image/png": "[encoded data removed]",
      "text/plain": [
       "<Figure size 640x480 with 1 Axes>"
      ]
     },
     "metadata": {},
     "output_type": "display_data"
    }
   ],
   "source": [
    "# graph the RGGI auction clearing prices\n",
    "import matplotlib.pyplot as plt\n",
    "\n",
    "plt.plot(\n",
    "    # reverse the list so the auctions are in order\n",
    "    data[' Clearing Price'].values[::-1]\n",
    ")\n",
    "plt.ylabel('Clearing Price')\n",
    "plt.xlabel('Auction')\n",
    "plt.show()"
   ]
  }
 ],
 "metadata": {
  "kernelspec": {
   "display_name": "Python 3",
   "language": "python",
   "name": "python3"
  },
  "language_info": {
   "codemirror_mode": {
    "name": "ipython",
    "version": 3
   },
   "file_extension": ".py",
   "mimetype": "text/x-python",
   "name": "python",
   "nbconvert_exporter": "python",
   "pygments_lexer": "ipython3",
   "version": "3.11.3"
  }
 },
 "nbformat": 4,
 "nbformat_minor": 2
}
