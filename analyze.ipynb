{
 "cells": [
  {
   "cell_type": "code",
   "execution_count": 4,
   "metadata": {},
   "outputs": [
    {
     "data": {
      "text/plain": [
       "(23,\n",
       " (46, 4),\n",
       " Index(['Department of Environmental Protection 2000 Revenues', ' 1998 Actual',\n",
       "        ' 1999 Estimated', ' 2000 Estimated'],\n",
       "       dtype='object'))"
      ]
     },
     "execution_count": 4,
     "metadata": {},
     "output_type": "execute_result"
    }
   ],
   "source": [
    "import pandas as pd\n",
    "import numpy as np\n",
    "import os\n",
    "\n",
    "years_DepEP = []\n",
    "\n",
    "# loop through the csvs in data/DepEP and add the dataframe to the list\n",
    "for file in os.listdir('data/DepEP'):\n",
    "    if file.endswith('.csv'):\n",
    "        years_DepEP.append(pd.read_csv('data/DepEP/' + file))\n",
    "\n",
    "# print some info about the dataframes\n",
    "len(years_DepEP), years_DepEP[0].shape, years_DepEP[0].columns"
   ]
  }
 ],
 "metadata": {
  "kernelspec": {
   "display_name": "Python 3",
   "language": "python",
   "name": "python3"
  },
  "language_info": {
   "codemirror_mode": {
    "name": "ipython",
    "version": 3
   },
   "file_extension": ".py",
   "mimetype": "text/x-python",
   "name": "python",
   "nbconvert_exporter": "python",
   "pygments_lexer": "ipython3",
   "version": "3.11.3"
  }
 },
 "nbformat": 4,
 "nbformat_minor": 2
}
