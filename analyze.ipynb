{
 "cells": [
  {
   "cell_type": "code",
   "execution_count": 1,
   "metadata": {},
   "outputs": [
    {
     "data": {
      "text/html": [
       "<div>\n",
       "<style scoped>\n",
       "    .dataframe tbody tr th:only-of-type {\n",
       "        vertical-align: middle;\n",
       "    }\n",
       "\n",
       "    .dataframe tbody tr th {\n",
       "        vertical-align: top;\n",
       "    }\n",
       "\n",
       "    .dataframe thead th {\n",
       "        text-align: right;\n",
       "    }\n",
       "</style>\n",
       "<table border=\"1\" class=\"dataframe\">\n",
       "  <thead>\n",
       "    <tr style=\"text-align: right;\">\n",
       "      <th></th>\n",
       "      <th>Department of Environmental Protection 2021 Revenues</th>\n",
       "      <th>2019 Actual</th>\n",
       "      <th>2020 Estimated</th>\n",
       "      <th>2021 Estimated</th>\n",
       "    </tr>\n",
       "  </thead>\n",
       "  <tbody>\n",
       "    <tr>\n",
       "      <th>0</th>\n",
       "      <td>Air Pollution Fees -- Minor Sources</td>\n",
       "      <td>7647</td>\n",
       "      <td>8200</td>\n",
       "      <td>8200</td>\n",
       "    </tr>\n",
       "    <tr>\n",
       "      <th>1</th>\n",
       "      <td>Air Pollution Fees -- Title V Operating Permits</td>\n",
       "      <td>3648</td>\n",
       "      <td>3700</td>\n",
       "      <td>3700</td>\n",
       "    </tr>\n",
       "    <tr>\n",
       "      <th>2</th>\n",
       "      <td>Air Pollution Fines</td>\n",
       "      <td>832</td>\n",
       "      <td>1100</td>\n",
       "      <td>850</td>\n",
       "    </tr>\n",
       "    <tr>\n",
       "      <th>3</th>\n",
       "      <td>Clean Water Enforcement Act</td>\n",
       "      <td>3329</td>\n",
       "      <td>1900</td>\n",
       "      <td>1900</td>\n",
       "    </tr>\n",
       "    <tr>\n",
       "      <th>4</th>\n",
       "      <td>Coastal Area Facility Review Act 2157</td>\n",
       "      <td>1800</td>\n",
       "      <td>1800</td>\n",
       "      <td>NaN</td>\n",
       "    </tr>\n",
       "  </tbody>\n",
       "</table>\n",
       "</div>"
      ],
      "text/plain": [
       "  Department of Environmental Protection 2021 Revenues  2019 Actual  \\\n",
       "0                Air Pollution Fees -- Minor Sources           7647   \n",
       "1    Air Pollution Fees -- Title V Operating Permits           3648   \n",
       "2                                Air Pollution Fines            832   \n",
       "3                        Clean Water Enforcement Act           3329   \n",
       "4              Coastal Area Facility Review Act 2157           1800   \n",
       "\n",
       "   2020 Estimated  2021 Estimated   \n",
       "0            8200             8200  \n",
       "1            3700             3700  \n",
       "2            1100              850  \n",
       "3            1900             1900  \n",
       "4            1800              NaN  "
      ]
     },
     "execution_count": 1,
     "metadata": {},
     "output_type": "execute_result"
    }
   ],
   "source": [
    "import pandas as pd\n",
    "import numpy as np\n",
    "\n",
    "data = pd.read_csv('data/test.csv')\n",
    "data.head()"
   ]
  }
 ],
 "metadata": {
  "kernelspec": {
   "display_name": "Python 3",
   "language": "python",
   "name": "python3"
  },
  "language_info": {
   "codemirror_mode": {
    "name": "ipython",
    "version": 3
   },
   "file_extension": ".py",
   "mimetype": "text/x-python",
   "name": "python",
   "nbconvert_exporter": "python",
   "pygments_lexer": "ipython3",
   "version": "3.11.3"
  }
 },
 "nbformat": 4,
 "nbformat_minor": 2
}
